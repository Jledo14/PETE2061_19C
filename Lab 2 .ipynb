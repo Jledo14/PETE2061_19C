{
 "cells": [
  {
   "cell_type": "markdown",
   "metadata": {
    "colab_type": "text",
    "id": "view-in-github"
   },
   "source": [
    "<a href=\"https://colab.research.google.com/github/lsuhpchelp/lbrnloniworkshop2019/blob/master/day1_python/intro_python.ipynb\" target=\"_parent\"><img src=\"https://colab.research.google.com/assets/colab-badge.svg\" alt=\"Open In Colab\"/></a>"
   ]
  },
  {
   "cell_type": "markdown",
   "metadata": {
    "colab_type": "text",
    "id": "u1YDPNtbdHDj"
   },
   "source": [
    "\n",
    " #  Python Data Types\n",
    "\n",
    "## PETE 2061 Lab 2 Workbook \n",
    "\n",
    "## THIS IS DUE BY 10:20 AM TODAY\n",
    "\n",
    "<a id='top'></a>"
   ]
  },
  {
   "cell_type": "markdown",
   "metadata": {
    "colab_type": "text",
    "id": "krWd44XodHDp"
   },
   "source": [
    "<a id='variables'></a>\n",
    "## Decline Curve Analysis\n",
    "Wells A, B, and C flow with an initial flow rate ($q_i$) of 5,000 bopd (barrels of oil per day), and have a continuous initial decline rate ($D_i$) of 20% per year. Well A declines exponentially, while well B declines hyperbolically, with a b-exponent of 0.5, and well C declines harmonically (this means that b = 0). <br><br>"
   ]
  },
  {
   "cell_type": "markdown",
   "metadata": {},
   "source": [
    "Step 1. Import the math library (so that the exponential function is available). <br>"
   ]
  },
  {
   "cell_type": "code",
   "execution_count": 2,
   "metadata": {},
   "outputs": [],
   "source": [
    "import math "
   ]
  },
  {
   "cell_type": "markdown",
   "metadata": {},
   "source": [
    "Step 2. Create variables named q_i, D_i and b, and assign them to the given initial flow rate, initial decline rate, and hyperbolic b-exponent of 0.5, respectively. <br>"
   ]
  },
  {
   "cell_type": "code",
   "execution_count": null,
   "metadata": {},
   "outputs": [],
   "source": [
    "q_i = 5000\n",
    "D_i = .2\n",
    "b = .5"
   ]
  },
  {
   "cell_type": "markdown",
   "metadata": {},
   "source": [
    "Step 3. Using the list() and range() functions, create a list named t, and use it store time in years; starting from 0 to 3 years, and in increments of 1 year. The first item in list t will be 0, and the last item will be 3.<br>"
   ]
  },
  {
   "cell_type": "code",
   "execution_count": 4,
   "metadata": {},
   "outputs": [],
   "source": [
    "t = [0, 1, 2, 3]"
   ]
  },
  {
   "cell_type": "markdown",
   "metadata": {},
   "source": [
    "Step 4. Create a list named q_A, and fill it with four zeros. <br>"
   ]
  },
  {
   "cell_type": "code",
   "execution_count": 7,
   "metadata": {},
   "outputs": [],
   "source": [
    "q_A = [0, 0, 0, 0]"
   ]
  },
  {
   "cell_type": "markdown",
   "metadata": {},
   "source": [
    "Step 5. Also create lists named q_B and q_C and let them store four zeros each. Note that q_A, q_B and q_C correspond to the flow rates of wells A, B and C, respectively. <br>"
   ]
  },
  {
   "cell_type": "code",
   "execution_count": 9,
   "metadata": {},
   "outputs": [],
   "source": [
    "q_B = [0, 0, 0, 0]\n",
    "q_C = [0, 0, 0, 0]"
   ]
  },
  {
   "cell_type": "markdown",
   "metadata": {},
   "source": [
    "Step 6. Using the appropriate equation for well A, \n",
    "    (a) compute the its rate at a time of 0 years, and store it in the first index of the list, q_A. Double-check that your result for this is equal to the initial flow rate.\n",
    "    (b) compute the its rate after 1 year and store it in the second index of the list, q_A.\n",
    "    (c) compute the its rate after 2 years and store it in the third index of the list, q_A.\n",
    "    (d) compute the its rate after 3 years and store it in the fourth index of the list, q_A. <br>"
   ]
  },
  {
   "cell_type": "code",
   "execution_count": 44,
   "metadata": {},
   "outputs": [],
   "source": [
    "t=0\n",
    "A0=5000*math.exp(-.2*t)\n",
    "t=1\n",
    "A1=5000*math.exp(-.2*t)\n",
    "t=2\n",
    "A2=5000*math.exp(-.2*t)\n",
    "t=3\n",
    "A3=5000*math.exp(-.2*t)\n",
    "q_A = [{A0}, {A1}, {A2}, {A3}]"
   ]
  },
  {
   "cell_type": "markdown",
   "metadata": {},
   "source": [
    "Step 7. Print out list q_A. <br>"
   ]
  },
  {
   "cell_type": "code",
   "execution_count": 12,
   "metadata": {},
   "outputs": [
    {
     "name": "stdout",
     "output_type": "stream",
     "text": [
      "[{5000.0}, {4093.653765389909}, {3351.600230178197}, {2744.058180470132}]\n"
     ]
    }
   ],
   "source": [
    "print(q_A)"
   ]
  },
  {
   "cell_type": "markdown",
   "metadata": {},
   "source": [
    "Step 8. Using the appropriate equation for wells B and C, compute and store the corresponding four rates in q_B and q_C. This is similar to the steps in 6 (a) through (d), but with the hyperbolic and harmonic decline curve equations, respectively. <br>"
   ]
  },
  {
   "cell_type": "code",
   "execution_count": 40,
   "metadata": {},
   "outputs": [],
   "source": [
    "t=0\n",
    "B0=5000/(1 + (.5)*(.2)*(t))**(2)\n",
    "t=1\n",
    "B1=5000/(1 + (.5)*(.2)*(t))**(2)\n",
    "t=2\n",
    "B2=5000/(1 + (.5)*(.2)*(t))**(2)\n",
    "t=3\n",
    "B3=5000/(1 + (.5)*(.2)*(t))**(2)\n",
    "q_B = [{B0}, {B1}, {B2}, {B3}]\n",
    "\n",
    "t=0\n",
    "C0=5000/(1 + (.2)*(t))\n",
    "t=1\n",
    "C1=5000/(1 + (.2)*(t))\n",
    "t=2\n",
    "C2=5000/(1 + (.2)*(t))\n",
    "t=3\n",
    "C3=5000/(1 + (.2)*(t))\n",
    "q_C = [{C0}, {C1}, {C2}, {C3}]"
   ]
  },
  {
   "cell_type": "markdown",
   "metadata": {},
   "source": [
    "Step 9. Print out lists q_B and q_C <br>"
   ]
  },
  {
   "cell_type": "code",
   "execution_count": 41,
   "metadata": {},
   "outputs": [
    {
     "name": "stdout",
     "output_type": "stream",
     "text": [
      "[{5000.0}, {4132.231404958677}, {3472.222222222222}, {2958.5798816568044}]\n",
      "[{5000.0}, {4166.666666666667}, {3571.4285714285716}, {3125.0}]\n"
     ]
    }
   ],
   "source": [
    "print(q_B)\n",
    "print(q_C)"
   ]
  },
  {
   "cell_type": "markdown",
   "metadata": {},
   "source": [
    "Step 10. Using all that you have learned so far, compute the corresponding cumulative production (Q_A, Q_B and Q_C) using the analytical expressions in your lecture notes. Print out the four items in each of these three lists. <br>"
   ]
  },
  {
   "cell_type": "code",
   "execution_count": 45,
   "metadata": {},
   "outputs": [
    {
     "name": "stdout",
     "output_type": "stream",
     "text": [
      "[{0.0}, {4531.731173050454}, {8241.998849109015}, {11279.70909764934}]\n",
      "[{0.0}, {1136.3636363636367}, {2083.333333333333}, {2884.6153846153857}]\n",
      "[{0.0}, {4558.038919848865}, {8411.805915530322}, {11750.090731143391}]\n"
     ]
    }
   ],
   "source": [
    "A0 = (5000-A0)/.2\n",
    "A1 = (5000-A1)/.2\n",
    "A2 = (5000-A2)/.2\n",
    "A3 = (5000-A3)/.2\n",
    "\n",
    "t=0\n",
    "B0 = (5000/(.2)*(.5))*(1-(1/(1 + (.5)*(.2)*t)))\n",
    "t=1\n",
    "B1 = (5000/(.2)*(.5))*(1-(1/(1 + (.5)*(.2)*t)))\n",
    "t=2\n",
    "B2 = (5000/(.2)*(.5))*(1-(1/(1 + (.5)*(.2)*t)))\n",
    "t=3\n",
    "B3 = (5000/(.2)*(.5))*(1-(1/(1 + (.5)*(.2)*t)))\n",
    "\n",
    "t=0\n",
    "C0 = (5000/.2)*(math.log(1 + .2*t))\n",
    "t=1\n",
    "C1 = (5000/.2)*(math.log(1 + .2*t))\n",
    "t=2\n",
    "C2 = (5000/.2)*(math.log(1 + .2*t))\n",
    "t=3\n",
    "C3 = (5000/.2)*(math.log(1 + .2*t))\n",
    "\n",
    "Q_A = [{A0}, {A1}, {A2}, {A3}]\n",
    "Q_B = [{B0}, {B1}, {B2}, {B3}]\n",
    "Q_C = [{C0}, {C1}, {C2}, {C3}]\n",
    "print(Q_A)\n",
    "print(Q_B)\n",
    "print(Q_C)\n"
   ]
  },
  {
   "cell_type": "markdown",
   "metadata": {},
   "source": [
    "Step 11. Using the Trapezoidal rule for well A, compute the volume of oil (in barrels) produced between:\n",
    "    (a) time = 0 and time = 1 year\n",
    "    (b) time = 1 and time = 2 years\n",
    "    (c) time = 2 and time = 3 years. <br>"
   ]
  },
  {
   "cell_type": "code",
   "execution_count": 48,
   "metadata": {},
   "outputs": [
    {
     "name": "stdout",
     "output_type": "stream",
     "text": [
      "2265.865586525227\n",
      "6386.865011079735\n",
      "9760.853973379177\n"
     ]
    }
   ],
   "source": [
    "y_1 = .5*(4531.731173050454 + 0.0)\n",
    "y_2 = .5*(4531.731173050454 + 8241.998849109015)\n",
    "y_3 = .5*(8241.998849109015 + 11279.70909764934)\n",
    "\n",
    "print(y_1)\n",
    "print(y_2)\n",
    "print(y_3)"
   ]
  },
  {
   "cell_type": "markdown",
   "metadata": {},
   "source": [
    "Step 12. Add up the three results from 11(a), (b) and (c) to obtain the cumulative production for well A after 3 years. <br>"
   ]
  },
  {
   "cell_type": "code",
   "execution_count": 51,
   "metadata": {},
   "outputs": [
    {
     "name": "stdout",
     "output_type": "stream",
     "text": [
      "18413.584570984138\n"
     ]
    }
   ],
   "source": [
    "cum_prod = (y_1 + y_2 + y_3)\n",
    "print(cum_prod)"
   ]
  },
  {
   "cell_type": "markdown",
   "metadata": {},
   "source": [
    "Step 13. Compare the result from Step 12 (a numerical integration) to the result stored in the last item in list Q_A (an exact integration). Compute the relative error (in %) of the numerical integration. <br>"
   ]
  },
  {
   "cell_type": "code",
   "execution_count": 54,
   "metadata": {},
   "outputs": [
    {
     "name": "stdout",
     "output_type": "stream",
     "text": [
      "38.742459111281654\n"
     ]
    }
   ],
   "source": [
    "error = (cum_prod - 11279.70909764934)/(cum_prod)\n",
    "p_error = 0.3874245911128166*100\n",
    "print(p_error)"
   ]
  }
 ],
 "metadata": {
  "colab": {
   "collapsed_sections": [
    "sYQs3O-6dHFb",
    "8sIJ4A57dHFk",
    "_73RPOcBdHFn",
    "h9s2tfPcdHFo",
    "zt4YHVYPdHGR"
   ],
   "include_colab_link": true,
   "name": "Copy of intro-python-colab.ipynb",
   "provenance": [],
   "version": "0.3.2"
  },
  "kernelspec": {
   "display_name": "Python 3",
   "language": "python",
   "name": "python3"
  },
  "language_info": {
   "codemirror_mode": {
    "name": "ipython",
    "version": 3
   },
   "file_extension": ".py",
   "mimetype": "text/x-python",
   "name": "python",
   "nbconvert_exporter": "python",
   "pygments_lexer": "ipython3",
   "version": "3.7.3"
  }
 },
 "nbformat": 4,
 "nbformat_minor": 1
}
