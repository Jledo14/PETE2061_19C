{
 "cells": [
  {
   "cell_type": "markdown",
   "metadata": {
    "colab_type": "text",
    "id": "u1YDPNtbdHDj"
   },
   "source": [
    "###  #  Python Data Types\n",
    "\n",
    "## PETE 2061 Lab 3 Workbook \n",
    "\n",
    "## THIS IS DUE BY 10:20 AM TODAY\n",
    "\n",
    "<a id='top'></a>"
   ]
  },
  {
   "cell_type": "markdown",
   "metadata": {},
   "source": [
    "Step 1. Paste the url (or link) to the pete2061 folder in your github account in the \"marked down\" cell below. <br>"
   ]
  },
  {
   "cell_type": "markdown",
   "metadata": {},
   "source": [
    "https://github.com/Jledo14"
   ]
  },
  {
   "cell_type": "markdown",
   "metadata": {
    "colab_type": "text",
    "id": "krWd44XodHDp"
   },
   "source": [
    "<a id='variables'></a>\n",
    "## Decline Curve Analysis\n",
    "Well A flows with an initial flow rate ($q_i$) of 6,000 bopd (barrels of oil per day), and has a continuous initial decline rate ($D_i$) of 10% per year. The well declines exponentially. <br><br>"
   ]
  },
  {
   "cell_type": "markdown",
   "metadata": {},
   "source": [
    "Step 2. Store the given values in appropriately named variables. (I won't mention this in future lab workbooks! I\n",
    "believe you now know that you have to assign any needed values into named variables before using them in calculations.)<br>\n",
    "Step 3. Import numpy (I won't mention this in future lab workbooks, because you will need to import any required libraries before you can use the functions within those libraries).<br>\n",
    "Step 4. Create a one-dimensional (1D) time array called timeVec and let it store numbers from 0 through 20 in increments of 1. <br>\n",
    "Step 5. Write a one-line vectorized Python code that computes the rates corresponding to the times stored in timeVec, and store these rates in an array called \"rateExp\". rateExp will be the same length as timeVec.<br>\n",
    "Step 6. Import matplotlib.pyplot as plt, and use plt.plot() and plt.show() to plot and display a graph of rateExp versus timeVec, using a green solid line and square markers. (I won't mention this in future lab workbooks, because you will need to import any required libraries before you can use the functions within those libraries).<br>"
   ]
  },
  {
   "cell_type": "code",
   "execution_count": 31,
   "metadata": {},
   "outputs": [
    {
     "name": "stdout",
     "output_type": "stream",
     "text": [
      "[6000.         5429.02450822 4912.38451847 4444.90932409 4021.92027621\n",
      " 3639.18395828 3292.86981656 2979.51182275 2695.9737847  2439.41795844\n",
      " 2207.27664703 1997.22650219 1807.16527147 1635.1907582  1479.58178365\n",
      " 1338.78096089 1211.37910797 1096.10114432  991.79332933  897.41171534\n",
      "  812.01169942]\n"
     ]
    },
    {
     "data": {
      "text/plain": [
       "[<matplotlib.lines.Line2D at 0x1fe141e0588>]"
      ]
     },
     "execution_count": 31,
     "metadata": {},
     "output_type": "execute_result"
    },
    {
     "data": {
      "image/png": "[encoded data removed]",
      "text/plain": [
       "<Figure size 432x288 with 1 Axes>"
      ]
     },
     "metadata": {
      "needs_background": "light"
     },
     "output_type": "display_data"
    }
   ],
   "source": [
    "qi=6000\n",
    "Di=.1\n",
    "import numpy as np\n",
    "timeVec = np.arange(0,21,1)\n",
    "rateExp=qi*np.exp(-Di*timeVec)\n",
    "print(rateExp)\n",
    "import matplotlib.pyplot as plt\n",
    "plt.plot(rateExp,timeVec,'g-s')"
   ]
  },
  {
   "cell_type": "markdown",
   "metadata": {},
   "source": [
    "Step 7. Print the data type of the timeVec array, using the numpy function \"dtype\"<br>\n",
    "Step 8. Create an array of the same shape with timeVec, call it \"rateExp2\", and initialize it to zeros.<br>\n",
    "Step 9. Instead of the vectorized computation of rateExp, use a for loop to compute the rate, and store this in an array called \"rateExp2\" <br>\n",
    "Step 10. Plot rateExp2 versus timeVec<br>"
   ]
  },
  {
   "cell_type": "code",
   "execution_count": 36,
   "metadata": {},
   "outputs": [
    {
     "name": "stdout",
     "output_type": "stream",
     "text": [
      "int32\n"
     ]
    },
    {
     "data": {
      "text/plain": [
       "[<matplotlib.lines.Line2D at 0x1fe14234b38>]"
      ]
     },
     "execution_count": 36,
     "metadata": {},
     "output_type": "execute_result"
    },
    {
     "data": {
      "image/png": "[encoded data removed]",
      "text/plain": [
       "<Figure size 432x288 with 1 Axes>"
      ]
     },
     "metadata": {
      "needs_background": "light"
     },
     "output_type": "display_data"
    }
   ],
   "source": [
    "print(timeVec.dtype)\n",
    "rateExp2=np.zeros(timeVec.shape)\n",
    "for time in timeVec:\n",
    "    rateExp2[time] = qi*np.exp(-Di*time)\n",
    "plt.plot(rateExp2,timeVec,'g-s')"
   ]
  },
  {
   "cell_type": "markdown",
   "metadata": {},
   "source": [
    "## Extra Credit\n",
    "For extra credit of up to 15% of the total value of this lab. Solve the following additional steps"
   ]
  },
  {
   "cell_type": "markdown",
   "metadata": {},
   "source": [
    "Step 11. Repeat steps 2 through 10, but this time, let time be in days. So, timeVec will go from 0 to 20*365. Note that instead of D_i, you will need to use D_i_inDays = D_i/365.<br>\n",
    "Step 12. Time both the vectorized calculation and the for loop, and print out the time spent in both. Which is faster?<br>\n",
    "Step 13. Using a b-exponent of 0.45 (b=0.45), compute rateHyp, which is the flow rate for a hyperbolic decline. Plot this against time. Feel free to perform the calculation using t in years or in days, but make sure to use \"D_i\" in %/yr if t is in years, and \"D_i_inDays\" in %/day if t is in days.<br>\n",
    "Step 14. Compute rateHarm, which is the flow rate for a harmonic decline. Plot this against time. Feel free to perform the calculation using t in years or in days, but make sure to use \"D_i\" in %/yr if t is in years, and \"D_i_inDays\" in %/day if t is in days.<br>\n",
    "Step 15. Compute and plot the exponential, hyperbolic and harmonic cumulative oil production (versus timeVec) all on the same graph, and show the legend. <br>"
   ]
  },
  {
   "cell_type": "code",
   "execution_count": 38,
   "metadata": {},
   "outputs": [
    {
     "name": "stdout",
     "output_type": "stream",
     "text": [
      "[6.00000000e+003 5.42902451e+003 4.91238452e+003 ... 7.47253143e-314\n",
      " 6.76142670e-314 6.11799315e-314]\n"
     ]
    },
    {
     "data": {
      "text/plain": [
       "[<matplotlib.lines.Line2D at 0x1fe142adeb8>]"
      ]
     },
     "execution_count": 38,
     "metadata": {},
     "output_type": "execute_result"
    },
    {
     "data": {
      "image/png": "[encoded data removed]",
      "text/plain": [
       "<Figure size 432x288 with 1 Axes>"
      ]
     },
     "metadata": {
      "needs_background": "light"
     },
     "output_type": "display_data"
    }
   ],
   "source": [
    "D_i=(Di/365)\n",
    "timeVec=np.arange(0,20*365,1)\n",
    "rateExp=qi*np.exp(-Di*timeVec)\n",
    "print(rateExp)\n",
    "import matplotlib.pyplot as plt\n",
    "plt.plot(rateExp,timeVec,'g-s')"
   ]
  },
  {
   "cell_type": "code",
   "execution_count": 39,
   "metadata": {},
   "outputs": [
    {
     "name": "stdout",
     "output_type": "stream",
     "text": [
      "int32\n"
     ]
    },
    {
     "data": {
      "text/plain": [
       "[<matplotlib.lines.Line2D at 0x1fe1430dfd0>]"
      ]
     },
     "execution_count": 39,
     "metadata": {},
     "output_type": "execute_result"
    },
    {
     "data": {
      "image/png": "[encoded data removed]",
      "text/plain": [
       "<Figure size 432x288 with 1 Axes>"
      ]
     },
     "metadata": {
      "needs_background": "light"
     },
     "output_type": "display_data"
    }
   ],
   "source": [
    "print(timeVec.dtype)\n",
    "rateExp2=np.zeros(timeVec.shape)\n",
    "for time in timeVec:\n",
    "    rateExp2[time] = qi*np.exp(-Di*time)\n",
    "plt.plot(rateExp2,timeVec,'g-s')"
   ]
  },
  {
   "cell_type": "code",
   "execution_count": null,
   "metadata": {},
   "outputs": [],
   "source": []
  }
 ],
 "metadata": {
  "colab": {
   "collapsed_sections": [
    "sYQs3O-6dHFb",
    "8sIJ4A57dHFk",
    "_73RPOcBdHFn",
    "h9s2tfPcdHFo",
    "zt4YHVYPdHGR"
   ],
   "include_colab_link": true,
   "name": "Copy of intro-python-colab.ipynb",
   "provenance": [],
   "version": "0.3.2"
  },
  "kernelspec": {
   "display_name": "Python 3",
   "language": "python",
   "name": "python3"
  },
  "language_info": {
   "codemirror_mode": {
    "name": "ipython",
    "version": 3
   },
   "file_extension": ".py",
   "mimetype": "text/x-python",
   "name": "python",
   "nbconvert_exporter": "python",
   "pygments_lexer": "ipython3",
   "version": "3.7.3"
  }
 },
 "nbformat": 4,
 "nbformat_minor": 1
}
